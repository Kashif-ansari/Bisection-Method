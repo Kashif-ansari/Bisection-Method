{
 "cells": [
  {
   "cell_type": "code",
   "execution_count": 1,
   "metadata": {},
   "outputs": [
    {
     "name": "stdout",
     "output_type": "stream",
     "text": [
      "32.0\n"
     ]
    },
    {
     "ename": "NameError",
     "evalue": "name 'x' is not defined",
     "output_type": "error",
     "traceback": [
      "\u001b[1;31m---------------------------------------------------------------------------\u001b[0m",
      "\u001b[1;31mNameError\u001b[0m                                 Traceback (most recent call last)",
      "\u001b[1;32m<ipython-input-1-e71b04d7af48>\u001b[0m in \u001b[0;36m<module>\u001b[1;34m\u001b[0m\n\u001b[0;32m      8\u001b[0m \u001b[0mprint\u001b[0m\u001b[1;33m(\u001b[0m\u001b[0mn\u001b[0m\u001b[1;33m)\u001b[0m\u001b[1;33m\u001b[0m\u001b[1;33m\u001b[0m\u001b[0m\n\u001b[0;32m      9\u001b[0m \u001b[0ma\u001b[0m \u001b[1;33m=\u001b[0m \u001b[1;36m3\u001b[0m\u001b[1;33m\u001b[0m\u001b[1;33m\u001b[0m\u001b[0m\n\u001b[1;32m---> 10\u001b[1;33m \u001b[0meq\u001b[0m\u001b[1;33m=\u001b[0m\u001b[1;33m(\u001b[0m\u001b[1;36m4\u001b[0m\u001b[1;33m*\u001b[0m\u001b[0mx\u001b[0m\u001b[1;33m**\u001b[0m\u001b[1;36m2\u001b[0m\u001b[1;33m-\u001b[0m\u001b[1;36m4\u001b[0m\u001b[1;33m*\u001b[0m\u001b[0ma\u001b[0m\u001b[1;33m**\u001b[0m\u001b[1;36m2\u001b[0m\u001b[1;33m)\u001b[0m\u001b[1;33m/\u001b[0m\u001b[1;33m(\u001b[0m\u001b[0mx\u001b[0m\u001b[1;33m-\u001b[0m\u001b[0ma\u001b[0m\u001b[1;33m)\u001b[0m\u001b[1;33m\u001b[0m\u001b[1;33m\u001b[0m\u001b[0m\n\u001b[0m\u001b[0;32m     11\u001b[0m \u001b[0mans\u001b[0m \u001b[1;33m=\u001b[0m \u001b[0ms\u001b[0m\u001b[1;33m.\u001b[0m\u001b[0mlimit\u001b[0m\u001b[1;33m(\u001b[0m\u001b[0meq\u001b[0m\u001b[1;33m,\u001b[0m\u001b[0mx\u001b[0m\u001b[1;33m,\u001b[0m\u001b[0ma\u001b[0m\u001b[1;33m)\u001b[0m\u001b[1;33m\u001b[0m\u001b[1;33m\u001b[0m\u001b[0m\n\u001b[0;32m     12\u001b[0m \u001b[0mprint\u001b[0m\u001b[1;33m(\u001b[0m\u001b[1;34m\"slop of tengent \"\u001b[0m\u001b[1;33m,\u001b[0m\u001b[0mans\u001b[0m\u001b[1;33m)\u001b[0m\u001b[1;33m\u001b[0m\u001b[1;33m\u001b[0m\u001b[0m\n",
      "\u001b[1;31mNameError\u001b[0m: name 'x' is not defined"
     ]
    }
   ],
   "source": [
    "import math as m\n",
    "import sympy as s\n",
    "y1 = 36\n",
    "y2 = 100\n",
    "x2 = 5\n",
    "x1 = 3\n",
    "n = (y2-y1)/(x2-x1)\n",
    "print(n)\n",
    "a = 3\n",
    "eq=(4*x**2-4*a**2)/(x-a)\n",
    "ans = s.limit(eq,x,a)\n",
    "print(\"slop of tengent \",ans)"
   ]
  },
  {
   "cell_type": "code",
   "execution_count": 5,
   "metadata": {},
   "outputs": [
    {
     "name": "stdout",
     "output_type": "stream",
     "text": [
      "24.0000000000000\n"
     ]
    }
   ],
   "source": [
    "x = s.Symbol('x')\n",
    "eq = 4*(x**2);\n",
    "nc = s.diff(eq).evalf(subs={x:3})\n",
    "print(nc)"
   ]
  },
  {
   "cell_type": "code",
   "execution_count": 11,
   "metadata": {},
   "outputs": [
    {
     "name": "stdout",
     "output_type": "stream",
     "text": [
      "-0.130859375\n"
     ]
    }
   ],
   "source": [
    "x= 0.625\n",
    "ans = x**3+x-1\n",
    "print(ans)"
   ]
  },
  {
   "cell_type": "code",
   "execution_count": 22,
   "metadata": {},
   "outputs": [
    {
     "name": "stdout",
     "output_type": "stream",
     "text": [
      "change in x\n",
      "-0.375\n",
      "after fist iteration 0.5\n",
      "Change in y\n",
      "0.171875\n",
      "after fist iteration 0.75\n",
      "change in x\n",
      "-0.130859375\n",
      "after fist iteration 0.625\n",
      "Change in y\n",
      "0.012451171875\n",
      "after fist iteration 0.6875\n",
      "change in x\n",
      "-0.061126708984375\n",
      "after fist iteration 0.65625\n"
     ]
    }
   ],
   "source": [
    "x = s.Symbol('x')\n",
    "def f(x):\n",
    "    return x**3+x-1\n",
    "\n",
    "def bisection(x,y,b):\n",
    "    a = (x+y)/2\n",
    "    if (f(a)<0):\n",
    "        x = a\n",
    "        print(\"change in x\")\n",
    "    else:\n",
    "        y = a\n",
    "        print(\"Change in y\")\n",
    "    print(f(a))\n",
    "    print(\"after fist iteration\", a)\n",
    "    if b > 0:\n",
    "        b-=1\n",
    "        bisection(x,y,b)\n",
    "    \n",
    "bisection(0,1,4)        \n"
   ]
  },
  {
   "cell_type": "code",
   "execution_count": 9,
   "metadata": {},
   "outputs": [
    {
     "name": "stdout",
     "output_type": "stream",
     "text": [
      "1 .iteration || Mid point 0.5 Tolarance 1.0\n",
      "2 .iteration || Mid point 0.25 Tolarance 1.0\n",
      "3 .iteration || Mid point 0.125 Tolarance 1.0\n",
      "4 .iteration || Mid point 0.0625 Tolarance 1.0\n",
      "5 .iteration || Mid point 0.03125 Tolarance 1.0\n",
      "6 .iteration || Mid point 0.015625 Tolarance 1.0\n",
      "7 .iteration || Mid point 0.0078125 Tolarance 1.0\n",
      "8 .iteration || Mid point 0.00390625 Tolarance 1.0\n",
      "9 .iteration || Mid point 0.001953125 Tolarance 1.0\n",
      "10 .iteration || Mid point 0.0009765625 Tolarance 1.0\n",
      "11 .iteration || Mid point 0.00048828125 Tolarance 1.0\n",
      "12 .iteration || Mid point 0.000244140625 Tolarance 1.0\n",
      "13 .iteration || Mid point 0.0001220703125 Tolarance 1.0\n",
      "14 .iteration || Mid point 6.103515625e-05 Tolarance 1.0\n",
      "15 .iteration || Mid point 3.0517578125e-05 Tolarance 1.0\n"
     ]
    }
   ],
   "source": [
    "x = s.Symbol('x')\n",
    "def f(x):\n",
    "    return m.cos(x)-1.3*(x)\n",
    "def bisection(x,y):\n",
    "    prev = 0\n",
    "    app = 0\n",
    "    for i in range(15):\n",
    "        a = (x+y)/2\n",
    "        if (f(a)<0):\n",
    "            x = a\n",
    "        else:\n",
    "            y = a\n",
    "        root  =abs((y-x)/y)\n",
    "        print(i+1,\".iteration || Mid point\", a,\"Tolarance\", root)\n",
    "        if root< 0.002 and root >= 0.001:\n",
    "            break\n",
    "bisection(0,1)\n"
   ]
  },
  {
   "cell_type": "code",
   "execution_count": 4,
   "metadata": {},
   "outputs": [
    {
     "name": "stdout",
     "output_type": "stream",
     "text": [
      "1 .iteration 0.5 Tolarance -0.5\n",
      "2 .iteration 0.25 Tolarance 0.25\n",
      "3 .iteration 0.125 Tolarance 0.125\n",
      "4 .iteration 0.0625 Tolarance 0.0625\n",
      "5 .iteration 0.03125 Tolarance 0.03125\n",
      "6 .iteration 0.015625 Tolarance 0.015625\n",
      "7 .iteration 0.0078125 Tolarance 0.0078125\n",
      "8 .iteration 0.00390625 Tolarance 0.00390625\n",
      "9 .iteration 0.001953125 Tolarance 0.001953125\n"
     ]
    }
   ],
   "source": [
    "x = s.Symbol('x')\n",
    "def f(x):\n",
    "    return (x+1)**2-2*x*m.cos(2*x)\n",
    "def bisection(x,y):\n",
    "    prev = 0\n",
    "    app = 0\n",
    "    for i in range(15):\n",
    "        a = (x+y)/2\n",
    "        app = prev - a\n",
    "        prev = a\n",
    "        if (f(a)<0):\n",
    "            x = a\n",
    "        else:\n",
    "            y = a\n",
    "        root  =y-x\n",
    "        print(i+1,\".iteration\", a,\"Tolarance\", app)\n",
    "        if root< 0.002 and root >= 0.001:\n",
    "            break\n",
    "bisection(0,1)"
   ]
  },
  {
   "cell_type": "code",
   "execution_count": 6,
   "metadata": {},
   "outputs": [
    {
     "name": "stdout",
     "output_type": "stream",
     "text": [
      "1 .iteration 0.5 Tolarance -0.5\n",
      "2 .iteration 0.25 Tolarance 0.25\n",
      "3 .iteration 0.125 Tolarance 0.125\n",
      "4 .iteration 0.0625 Tolarance 0.0625\n",
      "5 .iteration 0.03125 Tolarance 0.03125\n",
      "6 .iteration 0.015625 Tolarance 0.015625\n"
     ]
    }
   ],
   "source": [
    "x = s.Symbol('x')\n",
    "def f(x):\n",
    "    return m.cos(x)-1.3*(x)\n",
    "def bisection(x,y):\n",
    "    prev = 0\n",
    "    app = 0\n",
    "    for i in range(15):\n",
    "        a = (x+y)/2\n",
    "        app = prev - a\n",
    "        prev = a\n",
    "        if (f(a)<0):\n",
    "            x = a\n",
    "        else:\n",
    "            y = a\n",
    "        root  =y-x\n",
    "        print(i+1,\".iteration\", a,\"Tolarance\", app)\n",
    "        if root< 0.02 and root >= 0.01:\n",
    "            break\n",
    "bisection(0,1)\n"
   ]
  },
  {
   "cell_type": "code",
   "execution_count": 7,
   "metadata": {},
   "outputs": [
    {
     "name": "stdout",
     "output_type": "stream",
     "text": [
      "1 .iteration 0.5 Tolarance -0.5\n",
      "2 .iteration 0.25 Tolarance 0.25\n",
      "3 .iteration 0.125 Tolarance 0.125\n",
      "4 .iteration 0.0625 Tolarance 0.0625\n",
      "5 .iteration 0.03125 Tolarance 0.03125\n",
      "6 .iteration 0.015625 Tolarance 0.015625\n"
     ]
    }
   ],
   "source": [
    "x = s.Symbol('x')\n",
    "def f(x):\n",
    "    return (x+1)**2-2*x*m.cos(2*x)\n",
    "def bisection(x,y):\n",
    "    prev = 0\n",
    "    app = 0\n",
    "    for i in range(15):\n",
    "        a = (x+y)/2\n",
    "        app = prev - a\n",
    "        prev = a\n",
    "        if (f(a)<0):\n",
    "            x = a\n",
    "        else:\n",
    "            y = a\n",
    "        root  =y-x\n",
    "        print(i+1,\".iteration\", a,\"Tolarance\", app)\n",
    "        if root< 0.02 and root >= 0.01:\n",
    "            break\n",
    "bisection(0,1)"
   ]
  },
  {
   "cell_type": "code",
   "execution_count": null,
   "metadata": {},
   "outputs": [],
   "source": []
  }
 ],
 "metadata": {
  "kernelspec": {
   "display_name": "Python 3",
   "language": "python",
   "name": "python3"
  },
  "language_info": {
   "codemirror_mode": {
    "name": "ipython",
    "version": 3
   },
   "file_extension": ".py",
   "mimetype": "text/x-python",
   "name": "python",
   "nbconvert_exporter": "python",
   "pygments_lexer": "ipython3",
   "version": "3.8.8"
  }
 },
 "nbformat": 4,
 "nbformat_minor": 2
}
